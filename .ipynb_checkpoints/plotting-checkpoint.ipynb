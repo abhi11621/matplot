{
 "cells": [
  {
   "cell_type": "code",
   "execution_count": 1,
   "metadata": {},
   "outputs": [],
   "source": [
    "import pandas as pd\n",
    "\n",
    "import matplotlib.pyplot as plt\n",
    "%matplotlib inline"
   ]
  },
  {
   "cell_type": "code",
   "execution_count": 2,
   "metadata": {},
   "outputs": [
    {
     "data": {
      "text/html": [
       "<div>\n",
       "<style scoped>\n",
       "    .dataframe tbody tr th:only-of-type {\n",
       "        vertical-align: middle;\n",
       "    }\n",
       "\n",
       "    .dataframe tbody tr th {\n",
       "        vertical-align: top;\n",
       "    }\n",
       "\n",
       "    .dataframe thead th {\n",
       "        text-align: right;\n",
       "    }\n",
       "</style>\n",
       "<table border=\"1\" class=\"dataframe\">\n",
       "  <thead>\n",
       "    <tr style=\"text-align: right;\">\n",
       "      <th></th>\n",
       "      <th>exchange</th>\n",
       "      <th>stock_symbol</th>\n",
       "      <th>date</th>\n",
       "      <th>stock_price_open</th>\n",
       "      <th>stock_price_high</th>\n",
       "      <th>stock_price_low</th>\n",
       "      <th>stock_price_close</th>\n",
       "      <th>stock_volume</th>\n",
       "      <th>stock_price_adj_close</th>\n",
       "    </tr>\n",
       "  </thead>\n",
       "  <tbody>\n",
       "    <tr>\n",
       "      <th>0</th>\n",
       "      <td>NYSE</td>\n",
       "      <td>AEA</td>\n",
       "      <td>2010-02-08</td>\n",
       "      <td>4.42</td>\n",
       "      <td>4.42</td>\n",
       "      <td>4.21</td>\n",
       "      <td>4.24</td>\n",
       "      <td>205500</td>\n",
       "      <td>4.24</td>\n",
       "    </tr>\n",
       "    <tr>\n",
       "      <th>1</th>\n",
       "      <td>NYSE</td>\n",
       "      <td>ASP</td>\n",
       "      <td>2010-02-08</td>\n",
       "      <td>11.87</td>\n",
       "      <td>12.13</td>\n",
       "      <td>11.82</td>\n",
       "      <td>11.89</td>\n",
       "      <td>18900</td>\n",
       "      <td>11.89</td>\n",
       "    </tr>\n",
       "    <tr>\n",
       "      <th>2</th>\n",
       "      <td>NYSE</td>\n",
       "      <td>AIT</td>\n",
       "      <td>2010-02-08</td>\n",
       "      <td>21.81</td>\n",
       "      <td>21.81</td>\n",
       "      <td>21.28</td>\n",
       "      <td>21.31</td>\n",
       "      <td>103800</td>\n",
       "      <td>21.31</td>\n",
       "    </tr>\n",
       "  </tbody>\n",
       "</table>\n",
       "</div>"
      ],
      "text/plain": [
       "  exchange stock_symbol       date  stock_price_open  stock_price_high  \\\n",
       "0     NYSE          AEA 2010-02-08              4.42              4.42   \n",
       "1     NYSE          ASP 2010-02-08             11.87             12.13   \n",
       "2     NYSE          AIT 2010-02-08             21.81             21.81   \n",
       "\n",
       "   stock_price_low  stock_price_close  stock_volume  stock_price_adj_close  \n",
       "0             4.21               4.24        205500                   4.24  \n",
       "1            11.82              11.89         18900                  11.89  \n",
       "2            21.28              21.31        103800                  21.31  "
      ]
     },
     "execution_count": 2,
     "metadata": {},
     "output_type": "execute_result"
    }
   ],
   "source": [
    "df = pd.read_csv('NYSE_daily_prices_A.csv', parse_dates=['date'])\n",
    "df.head(3)"
   ]
  },
  {
   "cell_type": "code",
   "execution_count": 3,
   "metadata": {},
   "outputs": [],
   "source": [
    "x=[1,2,3,4,5,6,7]\n",
    "y=[50,51,52,48,47,49,46]"
   ]
  },
  {
   "cell_type": "code",
   "execution_count": 5,
   "metadata": {},
   "outputs": [
    {
     "ename": "SyntaxError",
     "evalue": "positional argument follows keyword argument (<ipython-input-5-6a684d6b32a2>, line 4)",
     "output_type": "error",
     "traceback": [
      "\u001b[1;36m  File \u001b[1;32m\"<ipython-input-5-6a684d6b32a2>\"\u001b[1;36m, line \u001b[1;32m4\u001b[0m\n\u001b[1;33m    plt.plot(x=df['date'],df['stock_price_close'],color='green',linewidth=5, linestyle='dotted')\u001b[0m\n\u001b[1;37m                         ^\u001b[0m\n\u001b[1;31mSyntaxError\u001b[0m\u001b[1;31m:\u001b[0m positional argument follows keyword argument\n"
     ]
    }
   ],
   "source": [
    "plt.xlabel('Day')\n",
    "plt.ylabel('Temperature')\n",
    "plt.title('Weather')\n",
    "plt.plot(x=df['date'],y=df['stock_price_close'],color='green',linewidth=5, linestyle='dotted')"
   ]
  },
  {
   "cell_type": "code",
   "execution_count": null,
   "metadata": {},
   "outputs": [],
   "source": []
  }
 ],
 "metadata": {
  "kernelspec": {
   "display_name": "env-tensorflow",
   "language": "python",
   "name": "env-tensorflow"
  },
  "language_info": {
   "codemirror_mode": {
    "name": "ipython",
    "version": 3
   },
   "file_extension": ".py",
   "mimetype": "text/x-python",
   "name": "python",
   "nbconvert_exporter": "python",
   "pygments_lexer": "ipython3",
   "version": "3.6.4"
  }
 },
 "nbformat": 4,
 "nbformat_minor": 2
}
